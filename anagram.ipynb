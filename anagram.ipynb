{
 "cells": [
  {
   "cell_type": "code",
   "execution_count": 1,
   "metadata": {},
   "outputs": [],
   "source": [
    "def anagram(word_left: str, word_right: str) -> bool:\n",
    "    \"\"\"\n",
    "    An anagram is a word or phrase formed by rearranging the letters of a\n",
    "    different word or phrase, typically using all the original letters exactly\n",
    "    once. For example, the word `anagram` can be rearranged into `nag a ram`\n",
    "    - wikipedia : https://en.wikipedia.org/wiki/Anagram\n",
    "    This function should ignore white space and capitalization for the check\n",
    "    Parameters\n",
    "    ----------\n",
    "    word_left : str\n",
    "    The first word for anagram comparison\n",
    "    word_right : str\n",
    "    The second word for anagram comparison\n",
    "    Returns\n",
    "    -------\n",
    "    bool\n",
    "    True iff the words are anagrams\n",
    "    \"\"\"\n",
    "    pass"
   ]
  },
  {
   "cell_type": "code",
   "execution_count": null,
   "metadata": {},
   "outputs": [],
   "source": []
  }
 ],
 "metadata": {
  "kernelspec": {
   "display_name": "Python 3",
   "language": "python",
   "name": "python3"
  },
  "language_info": {
   "codemirror_mode": {
    "name": "ipython",
    "version": 3
   },
   "file_extension": ".py",
   "mimetype": "text/x-python",
   "name": "python",
   "nbconvert_exporter": "python",
   "pygments_lexer": "ipython3",
   "version": "3.6.12"
  }
 },
 "nbformat": 4,
 "nbformat_minor": 4
}
